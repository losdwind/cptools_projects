{
  "nbformat": 4,
  "nbformat_minor": 0,
  "metadata": {
    "kernelspec": {
      "display_name": "Python 3",
      "language": "python",
      "name": "python3"
    },
    "language_info": {
      "codemirror_mode": {
        "name": "ipython",
        "version": 3
      },
      "file_extension": ".py",
      "mimetype": "text/x-python",
      "name": "python",
      "nbconvert_exporter": "python",
      "pygments_lexer": "ipython3",
      "version": "3.7.3"
    },
    "colab": {
      "name": "Project 1 - Customer Database.ipynb",
      "provenance": [],
      "collapsed_sections": []
    }
  },
  "cells": [
    {
      "cell_type": "markdown",
      "metadata": {
        "id": "oFmR6g3UK2rR",
        "colab_type": "text"
      },
      "source": [
        "# Project 1: Customer Database\n",
        "**This is the first of three mandatory projects to be handed in as part of the assessment for the course 02807 Computational Tools for Data Science at Technical University of Denmark, autumn 2019.**\n",
        "\n",
        "#### Practical info\n",
        "- **The project is to be done in groups of at most 3 students**\n",
        "- **Each group has to hand in _one_ Jupyter notebook (this notebook) with their solution**\n",
        "- **The hand-in of the notebook is due 2019-10-13, 23:59 on DTU Inside**\n",
        "\n",
        "#### Your solution\n",
        "- **Your solution should be in Python**\n",
        "- **For each question you may use as many cells for your solution as you like**\n",
        "- **You should document your solution and explain the choices you've made (for example by using multiple cells and use Markdown to assist the reader of the notebook)**\n",
        "- **You should not remove the problem statements, and you should not modify the structure of the notebook**\n",
        "- **Your notebook should be runnable, i.e., clicking [>>] in Jupyter should generate the result that you want to be assessed**\n",
        "- **You are not expected to use machine learning to solve any of the exercises**\n",
        "- **You will be assessed according to correctness and readability of your code, choice of solution, choice of tools and libraries, and documentation of your solution**"
      ]
    },
    {
      "cell_type": "markdown",
      "metadata": {
        "id": "YPYGM1iZK2rT",
        "colab_type": "text"
      },
      "source": [
        "## Introduction\n",
        "Your team has been hired by the company X as data scientists. X makes gadgets for a wide range of industrial and commercial clients.\n",
        "\n",
        "As in-house data scientists, your teams first task, as per request from your new boss, is to optimize business operations. You have decided that a good first step would be to analyze the companys historical sales data to gain a better understanding of where profit is coming from. It may also reveal some low hanging fruit in terms of business opportunities.\n",
        "\n",
        "To get started, you have called the IT department to get access to the customer and sales transactions database. To your horror you've been told that such a database doens't exist, and the only record of sales transactions is kept by John from finance in an Excel spreadsheet. So you've emailed John asking for a CSV dump of the spreadsheet...\n",
        "\n",
        "In this project you need to clean the data you got from John, enrich it with further data, prepare a database for the data, and do some data analysis. The project is comprised of five parts. They are intended to be solved in the order they appear, but it is highly recommended that you read through all of them and devise an overall strategy before you start implementing anything."
      ]
    },
    {
      "cell_type": "markdown",
      "metadata": {
        "id": "a0HD1QbWR1Ni",
        "colab_type": "text"
      },
      "source": [
        "https://exchangeratesapi.io/"
      ]
    },
    {
      "cell_type": "markdown",
      "metadata": {
        "id": "OfntR1lwK2rV",
        "colab_type": "text"
      },
      "source": [
        "## Part 1: Cleaning the data\n",
        "John has emailed you the following link to the CSV dump you requested.\n",
        "\n",
        "- [transactions.csv](https://raw.githubusercontent.com/patrickcording/02807-comp-tools/master/docker/work/data/transactions.csv)\n",
        "\n",
        "It seems as though he has been a bit sloppy when keeping the records. \n",
        "\n",
        "In this part you should:\n",
        "- Explain what the data is\n",
        "- Clean it to prepare it for inserting into a database and doing data analysis "
      ]
    },
    {
      "cell_type": "markdown",
      "metadata": {
        "id": "ko7RbrNwK2rW",
        "colab_type": "text"
      },
      "source": [
        "---\n",
        "### Solution"
      ]
    },
    {
      "cell_type": "code",
      "metadata": {
        "id": "U-2mLVfIK2rY",
        "colab_type": "code",
        "colab": {}
      },
      "source": [
        "import pandas as pd"
      ],
      "execution_count": 0,
      "outputs": []
    },
    {
      "cell_type": "code",
      "metadata": {
        "id": "iVaclsYDR71x",
        "colab_type": "code",
        "colab": {}
      },
      "source": [
        "df = pd.read_csv('https://raw.githubusercontent.com/patrickcording/02807-comp-tools/master/docker/work/data/transactions.csv',  encoding = 'utf-8-sig', delimiter = '\\t*,', engine = 'python');"
      ],
      "execution_count": 0,
      "outputs": []
    },
    {
      "cell_type": "code",
      "metadata": {
        "id": "XphRrmNdTy0x",
        "colab_type": "code",
        "outputId": "e65c4960-8d30-415e-bd3b-5a9c394796eb",
        "colab": {
          "base_uri": "https://localhost:8080/",
          "height": 195
        }
      },
      "source": [
        "df.tail()"
      ],
      "execution_count": 0,
      "outputs": [
        {
          "output_type": "execute_result",
          "data": {
            "text/html": [
              "<div>\n",
              "<style scoped>\n",
              "    .dataframe tbody tr th:only-of-type {\n",
              "        vertical-align: middle;\n",
              "    }\n",
              "\n",
              "    .dataframe tbody tr th {\n",
              "        vertical-align: top;\n",
              "    }\n",
              "\n",
              "    .dataframe thead th {\n",
              "        text-align: right;\n",
              "    }\n",
              "</style>\n",
              "<table border=\"1\" class=\"dataframe\">\n",
              "  <thead>\n",
              "    <tr style=\"text-align: right;\">\n",
              "      <th></th>\n",
              "      <th>part</th>\n",
              "      <th>company</th>\n",
              "      <th>country</th>\n",
              "      <th>city</th>\n",
              "      <th>price</th>\n",
              "      <th>date</th>\n",
              "    </tr>\n",
              "  </thead>\n",
              "  <tbody>\n",
              "    <tr>\n",
              "      <th>20563</th>\n",
              "      <td>21695-267</td>\n",
              "      <td>Roodel</td>\n",
              "      <td>Portugal</td>\n",
              "      <td>Aranhas</td>\n",
              "      <td>606.37€</td>\n",
              "      <td>2018-12-31 20:48:14</td>\n",
              "    </tr>\n",
              "    <tr>\n",
              "      <th>20564</th>\n",
              "      <td>49999-737</td>\n",
              "      <td>Thoughtmix</td>\n",
              "      <td>Portugal</td>\n",
              "      <td>Amadora</td>\n",
              "      <td>828.37€</td>\n",
              "      <td>2018-12-31 21:24:17</td>\n",
              "    </tr>\n",
              "    <tr>\n",
              "      <th>20565</th>\n",
              "      <td>52343-025</td>\n",
              "      <td>Brainsphere</td>\n",
              "      <td>Portugal</td>\n",
              "      <td>Braga</td>\n",
              "      <td>686.1€</td>\n",
              "      <td>2018-12-31 21:38:02</td>\n",
              "    </tr>\n",
              "    <tr>\n",
              "      <th>20566</th>\n",
              "      <td>49288-0285</td>\n",
              "      <td>Flipstorm</td>\n",
              "      <td>Greece</td>\n",
              "      <td>Athens</td>\n",
              "      <td>1051.08€</td>\n",
              "      <td>2019-02-21 20:05:00</td>\n",
              "    </tr>\n",
              "    <tr>\n",
              "      <th>20567</th>\n",
              "      <td>43419-018</td>\n",
              "      <td>Flipstorm</td>\n",
              "      <td>Greece</td>\n",
              "      <td>Athens</td>\n",
              "      <td>139.56€</td>\n",
              "      <td>2019-05-14 22:48:39</td>\n",
              "    </tr>\n",
              "  </tbody>\n",
              "</table>\n",
              "</div>"
            ],
            "text/plain": [
              "             part      company  ...     price                 date\n",
              "20563   21695-267       Roodel  ...   606.37€  2018-12-31 20:48:14\n",
              "20564   49999-737   Thoughtmix  ...   828.37€  2018-12-31 21:24:17\n",
              "20565   52343-025  Brainsphere  ...    686.1€  2018-12-31 21:38:02\n",
              "20566  49288-0285    Flipstorm  ...  1051.08€  2019-02-21 20:05:00\n",
              "20567   43419-018    Flipstorm  ...   139.56€  2019-05-14 22:48:39\n",
              "\n",
              "[5 rows x 6 columns]"
            ]
          },
          "metadata": {
            "tags": []
          },
          "execution_count": 66
        }
      ]
    },
    {
      "cell_type": "code",
      "metadata": {
        "id": "TIYwV7uDZziG",
        "colab_type": "code",
        "outputId": "40400fa2-abf5-4040-b597-efabaf3135cb",
        "colab": {
          "base_uri": "https://localhost:8080/",
          "height": 34
        }
      },
      "source": [
        "df.date.hasnans"
      ],
      "execution_count": 0,
      "outputs": [
        {
          "output_type": "execute_result",
          "data": {
            "text/plain": [
              "False"
            ]
          },
          "metadata": {
            "tags": []
          },
          "execution_count": 79
        }
      ]
    },
    {
      "cell_type": "code",
      "metadata": {
        "id": "ZeetUXbLY8bG",
        "colab_type": "code",
        "outputId": "4a576f5c-0a11-4bc8-ceaa-aa846419e7a4",
        "colab": {
          "base_uri": "https://localhost:8080/",
          "height": 387
        }
      },
      "source": [
        "df.date.apply(lambda date_str: str(31) if (int(date_str.split('-')[2].split(' ')[0]) > 31) else date_str)"
      ],
      "execution_count": 0,
      "outputs": [
        {
          "output_type": "error",
          "ename": "IndexError",
          "evalue": "ignored",
          "traceback": [
            "\u001b[0;31m---------------------------------------------------------------------------\u001b[0m",
            "\u001b[0;31mIndexError\u001b[0m                                Traceback (most recent call last)",
            "\u001b[0;32m<ipython-input-76-72aa20317af7>\u001b[0m in \u001b[0;36m<module>\u001b[0;34m()\u001b[0m\n\u001b[0;32m----> 1\u001b[0;31m \u001b[0mdf\u001b[0m\u001b[0;34m.\u001b[0m\u001b[0mdate\u001b[0m\u001b[0;34m.\u001b[0m\u001b[0mapply\u001b[0m\u001b[0;34m(\u001b[0m\u001b[0;32mlambda\u001b[0m \u001b[0mdate_str\u001b[0m\u001b[0;34m:\u001b[0m \u001b[0mstr\u001b[0m\u001b[0;34m(\u001b[0m\u001b[0;36m31\u001b[0m\u001b[0;34m)\u001b[0m \u001b[0;32mif\u001b[0m \u001b[0;34m(\u001b[0m\u001b[0mint\u001b[0m\u001b[0;34m(\u001b[0m\u001b[0mdate_str\u001b[0m\u001b[0;34m.\u001b[0m\u001b[0msplit\u001b[0m\u001b[0;34m(\u001b[0m\u001b[0;34m'-'\u001b[0m\u001b[0;34m)\u001b[0m\u001b[0;34m[\u001b[0m\u001b[0;36m2\u001b[0m\u001b[0;34m]\u001b[0m\u001b[0;34m.\u001b[0m\u001b[0msplit\u001b[0m\u001b[0;34m(\u001b[0m\u001b[0;34m' '\u001b[0m\u001b[0;34m)\u001b[0m\u001b[0;34m[\u001b[0m\u001b[0;36m0\u001b[0m\u001b[0;34m]\u001b[0m\u001b[0;34m)\u001b[0m \u001b[0;34m>\u001b[0m \u001b[0;36m31\u001b[0m\u001b[0;34m)\u001b[0m \u001b[0;32melse\u001b[0m \u001b[0mdate_str\u001b[0m\u001b[0;34m)\u001b[0m\u001b[0;34m\u001b[0m\u001b[0;34m\u001b[0m\u001b[0m\n\u001b[0m",
            "\u001b[0;32m/usr/local/lib/python3.6/dist-packages/pandas/core/series.py\u001b[0m in \u001b[0;36mapply\u001b[0;34m(self, func, convert_dtype, args, **kwds)\u001b[0m\n\u001b[1;32m   3589\u001b[0m             \u001b[0;32melse\u001b[0m\u001b[0;34m:\u001b[0m\u001b[0;34m\u001b[0m\u001b[0;34m\u001b[0m\u001b[0m\n\u001b[1;32m   3590\u001b[0m                 \u001b[0mvalues\u001b[0m \u001b[0;34m=\u001b[0m \u001b[0mself\u001b[0m\u001b[0;34m.\u001b[0m\u001b[0mastype\u001b[0m\u001b[0;34m(\u001b[0m\u001b[0mobject\u001b[0m\u001b[0;34m)\u001b[0m\u001b[0;34m.\u001b[0m\u001b[0mvalues\u001b[0m\u001b[0;34m\u001b[0m\u001b[0;34m\u001b[0m\u001b[0m\n\u001b[0;32m-> 3591\u001b[0;31m                 \u001b[0mmapped\u001b[0m \u001b[0;34m=\u001b[0m \u001b[0mlib\u001b[0m\u001b[0;34m.\u001b[0m\u001b[0mmap_infer\u001b[0m\u001b[0;34m(\u001b[0m\u001b[0mvalues\u001b[0m\u001b[0;34m,\u001b[0m \u001b[0mf\u001b[0m\u001b[0;34m,\u001b[0m \u001b[0mconvert\u001b[0m\u001b[0;34m=\u001b[0m\u001b[0mconvert_dtype\u001b[0m\u001b[0;34m)\u001b[0m\u001b[0;34m\u001b[0m\u001b[0;34m\u001b[0m\u001b[0m\n\u001b[0m\u001b[1;32m   3592\u001b[0m \u001b[0;34m\u001b[0m\u001b[0m\n\u001b[1;32m   3593\u001b[0m         \u001b[0;32mif\u001b[0m \u001b[0mlen\u001b[0m\u001b[0;34m(\u001b[0m\u001b[0mmapped\u001b[0m\u001b[0;34m)\u001b[0m \u001b[0;32mand\u001b[0m \u001b[0misinstance\u001b[0m\u001b[0;34m(\u001b[0m\u001b[0mmapped\u001b[0m\u001b[0;34m[\u001b[0m\u001b[0;36m0\u001b[0m\u001b[0;34m]\u001b[0m\u001b[0;34m,\u001b[0m \u001b[0mSeries\u001b[0m\u001b[0;34m)\u001b[0m\u001b[0;34m:\u001b[0m\u001b[0;34m\u001b[0m\u001b[0;34m\u001b[0m\u001b[0m\n",
            "\u001b[0;32mpandas/_libs/lib.pyx\u001b[0m in \u001b[0;36mpandas._libs.lib.map_infer\u001b[0;34m()\u001b[0m\n",
            "\u001b[0;32m<ipython-input-76-72aa20317af7>\u001b[0m in \u001b[0;36m<lambda>\u001b[0;34m(date_str)\u001b[0m\n\u001b[0;32m----> 1\u001b[0;31m \u001b[0mdf\u001b[0m\u001b[0;34m.\u001b[0m\u001b[0mdate\u001b[0m\u001b[0;34m.\u001b[0m\u001b[0mapply\u001b[0m\u001b[0;34m(\u001b[0m\u001b[0;32mlambda\u001b[0m \u001b[0mdate_str\u001b[0m\u001b[0;34m:\u001b[0m \u001b[0mstr\u001b[0m\u001b[0;34m(\u001b[0m\u001b[0;36m31\u001b[0m\u001b[0;34m)\u001b[0m \u001b[0;32mif\u001b[0m \u001b[0;34m(\u001b[0m\u001b[0mint\u001b[0m\u001b[0;34m(\u001b[0m\u001b[0mdate_str\u001b[0m\u001b[0;34m.\u001b[0m\u001b[0msplit\u001b[0m\u001b[0;34m(\u001b[0m\u001b[0;34m'-'\u001b[0m\u001b[0;34m)\u001b[0m\u001b[0;34m[\u001b[0m\u001b[0;36m2\u001b[0m\u001b[0;34m]\u001b[0m\u001b[0;34m.\u001b[0m\u001b[0msplit\u001b[0m\u001b[0;34m(\u001b[0m\u001b[0;34m' '\u001b[0m\u001b[0;34m)\u001b[0m\u001b[0;34m[\u001b[0m\u001b[0;36m0\u001b[0m\u001b[0;34m]\u001b[0m\u001b[0;34m)\u001b[0m \u001b[0;34m>\u001b[0m \u001b[0;36m31\u001b[0m\u001b[0;34m)\u001b[0m \u001b[0;32melse\u001b[0m \u001b[0mdate_str\u001b[0m\u001b[0;34m)\u001b[0m\u001b[0;34m\u001b[0m\u001b[0;34m\u001b[0m\u001b[0m\n\u001b[0m",
            "\u001b[0;31mIndexError\u001b[0m: list index out of range"
          ]
        }
      ]
    },
    {
      "cell_type": "code",
      "metadata": {
        "id": "mwVnhLAiYK6r",
        "colab_type": "code",
        "colab": {}
      },
      "source": [
        "df.date = pd.to_datetime(df.date, format = '%Y-%m-%d %H:%M:%S', errors='coerce')"
      ],
      "execution_count": 0,
      "outputs": []
    },
    {
      "cell_type": "code",
      "metadata": {
        "id": "r4MZ0L6FbzPj",
        "colab_type": "code",
        "outputId": "ae42a07b-8145-49ac-fbb1-8b2a68f4840d",
        "colab": {
          "base_uri": "https://localhost:8080/",
          "height": 34
        }
      },
      "source": [
        "df.date.hasnans"
      ],
      "execution_count": 0,
      "outputs": [
        {
          "output_type": "execute_result",
          "data": {
            "text/plain": [
              "True"
            ]
          },
          "metadata": {
            "tags": []
          },
          "execution_count": 95
        }
      ]
    },
    {
      "cell_type": "code",
      "metadata": {
        "id": "0q0cy74RXCjW",
        "colab_type": "code",
        "outputId": "eb89968b-5d3e-4517-bd68-b6468e590e24",
        "colab": {
          "base_uri": "https://localhost:8080/",
          "height": 314
        }
      },
      "source": [
        "df[df.date.isnull() == True]"
      ],
      "execution_count": 0,
      "outputs": [
        {
          "output_type": "execute_result",
          "data": {
            "text/html": [
              "<div>\n",
              "<style scoped>\n",
              "    .dataframe tbody tr th:only-of-type {\n",
              "        vertical-align: middle;\n",
              "    }\n",
              "\n",
              "    .dataframe tbody tr th {\n",
              "        vertical-align: top;\n",
              "    }\n",
              "\n",
              "    .dataframe thead th {\n",
              "        text-align: right;\n",
              "    }\n",
              "</style>\n",
              "<table border=\"1\" class=\"dataframe\">\n",
              "  <thead>\n",
              "    <tr style=\"text-align: right;\">\n",
              "      <th></th>\n",
              "      <th>part</th>\n",
              "      <th>company</th>\n",
              "      <th>country</th>\n",
              "      <th>city</th>\n",
              "      <th>price</th>\n",
              "      <th>date</th>\n",
              "    </tr>\n",
              "  </thead>\n",
              "  <tbody>\n",
              "    <tr>\n",
              "      <th>3539</th>\n",
              "      <td>17156-617</td>\n",
              "      <td>Thoughtmix</td>\n",
              "      <td>Portugal</td>\n",
              "      <td>Amadora</td>\n",
              "      <td>791.86€</td>\n",
              "      <td>NaT</td>\n",
              "    </tr>\n",
              "    <tr>\n",
              "      <th>3540</th>\n",
              "      <td>54868-5165</td>\n",
              "      <td>Shufflebeat</td>\n",
              "      <td>Portugal</td>\n",
              "      <td>Porto</td>\n",
              "      <td>525.24€</td>\n",
              "      <td>NaT</td>\n",
              "    </tr>\n",
              "    <tr>\n",
              "      <th>9328</th>\n",
              "      <td>0615-7679</td>\n",
              "      <td>Thoughtmix</td>\n",
              "      <td>Portugal</td>\n",
              "      <td>Amadora</td>\n",
              "      <td>314.43€</td>\n",
              "      <td>NaT</td>\n",
              "    </tr>\n",
              "    <tr>\n",
              "      <th>9329</th>\n",
              "      <td>35356-325</td>\n",
              "      <td>Wordify</td>\n",
              "      <td>United States</td>\n",
              "      <td>New York</td>\n",
              "      <td>$330.75</td>\n",
              "      <td>NaT</td>\n",
              "    </tr>\n",
              "    <tr>\n",
              "      <th>9330</th>\n",
              "      <td>0268-1401</td>\n",
              "      <td>Thoughtmix</td>\n",
              "      <td>Portugal</td>\n",
              "      <td>Amadora</td>\n",
              "      <td>1000.77€</td>\n",
              "      <td>NaT</td>\n",
              "    </tr>\n",
              "    <tr>\n",
              "      <th>9331</th>\n",
              "      <td>51138-049</td>\n",
              "      <td>Twitterbeat</td>\n",
              "      <td>France</td>\n",
              "      <td>Annecy</td>\n",
              "      <td>1032.04€</td>\n",
              "      <td>NaT</td>\n",
              "    </tr>\n",
              "    <tr>\n",
              "      <th>9332</th>\n",
              "      <td>68233-011</td>\n",
              "      <td>Brainsphere</td>\n",
              "      <td>Portugal</td>\n",
              "      <td>Braga</td>\n",
              "      <td>588.07€</td>\n",
              "      <td>NaT</td>\n",
              "    </tr>\n",
              "    <tr>\n",
              "      <th>9333</th>\n",
              "      <td>54473-578</td>\n",
              "      <td>Shufflebeat</td>\n",
              "      <td>Portugal</td>\n",
              "      <td>Porto</td>\n",
              "      <td>192.34€</td>\n",
              "      <td>NaT</td>\n",
              "    </tr>\n",
              "    <tr>\n",
              "      <th>9334</th>\n",
              "      <td>54868-0823</td>\n",
              "      <td>Rhycero</td>\n",
              "      <td>France</td>\n",
              "      <td>Arcueil</td>\n",
              "      <td>108.62€</td>\n",
              "      <td>NaT</td>\n",
              "    </tr>\n",
              "  </tbody>\n",
              "</table>\n",
              "</div>"
            ],
            "text/plain": [
              "            part      company        country      city     price date\n",
              "3539   17156-617   Thoughtmix       Portugal   Amadora   791.86€  NaT\n",
              "3540  54868-5165  Shufflebeat       Portugal     Porto   525.24€  NaT\n",
              "9328   0615-7679   Thoughtmix       Portugal   Amadora   314.43€  NaT\n",
              "9329   35356-325      Wordify  United States  New York   $330.75  NaT\n",
              "9330   0268-1401   Thoughtmix       Portugal   Amadora  1000.77€  NaT\n",
              "9331   51138-049  Twitterbeat         France    Annecy  1032.04€  NaT\n",
              "9332   68233-011  Brainsphere       Portugal     Braga   588.07€  NaT\n",
              "9333   54473-578  Shufflebeat       Portugal     Porto   192.34€  NaT\n",
              "9334  54868-0823      Rhycero         France   Arcueil   108.62€  NaT"
            ]
          },
          "metadata": {
            "tags": []
          },
          "execution_count": 98
        }
      ]
    },
    {
      "cell_type": "code",
      "metadata": {
        "id": "Be5QQ_Q2ckmN",
        "colab_type": "code",
        "colab": {}
      },
      "source": [
        "df.date = df.date.fillna(method = 'bfill')"
      ],
      "execution_count": 0,
      "outputs": []
    },
    {
      "cell_type": "code",
      "metadata": {
        "id": "rjXs1YbqWnvk",
        "colab_type": "code",
        "outputId": "e11fd02e-cf1b-4afd-9c1a-f50173682a8e",
        "colab": {
          "base_uri": "https://localhost:8080/",
          "height": 136
        }
      },
      "source": [
        "df.iloc[[3538, 3539, 3540]]"
      ],
      "execution_count": 0,
      "outputs": [
        {
          "output_type": "execute_result",
          "data": {
            "text/html": [
              "<div>\n",
              "<style scoped>\n",
              "    .dataframe tbody tr th:only-of-type {\n",
              "        vertical-align: middle;\n",
              "    }\n",
              "\n",
              "    .dataframe tbody tr th {\n",
              "        vertical-align: top;\n",
              "    }\n",
              "\n",
              "    .dataframe thead th {\n",
              "        text-align: right;\n",
              "    }\n",
              "</style>\n",
              "<table border=\"1\" class=\"dataframe\">\n",
              "  <thead>\n",
              "    <tr style=\"text-align: right;\">\n",
              "      <th></th>\n",
              "      <th>part</th>\n",
              "      <th>company</th>\n",
              "      <th>country</th>\n",
              "      <th>city</th>\n",
              "      <th>price</th>\n",
              "      <th>date</th>\n",
              "    </tr>\n",
              "  </thead>\n",
              "  <tbody>\n",
              "    <tr>\n",
              "      <th>3538</th>\n",
              "      <td>0615-7679</td>\n",
              "      <td>Thoughtmix</td>\n",
              "      <td>Portugal</td>\n",
              "      <td>Amadora</td>\n",
              "      <td>271.85€</td>\n",
              "      <td>2016-06-10 06:24:59</td>\n",
              "    </tr>\n",
              "    <tr>\n",
              "      <th>3539</th>\n",
              "      <td>17156-617</td>\n",
              "      <td>Thoughtmix</td>\n",
              "      <td>Portugal</td>\n",
              "      <td>Amadora</td>\n",
              "      <td>791.86€</td>\n",
              "      <td>2016-06-10 10:02:20</td>\n",
              "    </tr>\n",
              "    <tr>\n",
              "      <th>3540</th>\n",
              "      <td>54868-5165</td>\n",
              "      <td>Shufflebeat</td>\n",
              "      <td>Portugal</td>\n",
              "      <td>Porto</td>\n",
              "      <td>525.24€</td>\n",
              "      <td>2016-06-10 10:02:20</td>\n",
              "    </tr>\n",
              "  </tbody>\n",
              "</table>\n",
              "</div>"
            ],
            "text/plain": [
              "            part      company   country     city    price                date\n",
              "3538   0615-7679   Thoughtmix  Portugal  Amadora  271.85€ 2016-06-10 06:24:59\n",
              "3539   17156-617   Thoughtmix  Portugal  Amadora  791.86€ 2016-06-10 10:02:20\n",
              "3540  54868-5165  Shufflebeat  Portugal    Porto  525.24€ 2016-06-10 10:02:20"
            ]
          },
          "metadata": {
            "tags": []
          },
          "execution_count": 103
        }
      ]
    },
    {
      "cell_type": "code",
      "metadata": {
        "id": "6WIPrbp-SHJE",
        "colab_type": "code",
        "outputId": "1972858c-caa3-4b36-d2aa-dad283aa5acb",
        "colab": {
          "base_uri": "https://localhost:8080/",
          "height": 1000
        }
      },
      "source": [
        "df.date.str.split(\" \", expand = True)"
      ],
      "execution_count": 0,
      "outputs": [
        {
          "output_type": "execute_result",
          "data": {
            "text/html": [
              "<div>\n",
              "<style scoped>\n",
              "    .dataframe tbody tr th:only-of-type {\n",
              "        vertical-align: middle;\n",
              "    }\n",
              "\n",
              "    .dataframe tbody tr th {\n",
              "        vertical-align: top;\n",
              "    }\n",
              "\n",
              "    .dataframe thead th {\n",
              "        text-align: right;\n",
              "    }\n",
              "</style>\n",
              "<table border=\"1\" class=\"dataframe\">\n",
              "  <thead>\n",
              "    <tr style=\"text-align: right;\">\n",
              "      <th></th>\n",
              "      <th>0</th>\n",
              "      <th>1</th>\n",
              "    </tr>\n",
              "  </thead>\n",
              "  <tbody>\n",
              "    <tr>\n",
              "      <th>0</th>\n",
              "      <td>2016-01-02</td>\n",
              "      <td>00:01:05</td>\n",
              "    </tr>\n",
              "    <tr>\n",
              "      <th>1</th>\n",
              "      <td>2016-01-02</td>\n",
              "      <td>00:05:26</td>\n",
              "    </tr>\n",
              "    <tr>\n",
              "      <th>2</th>\n",
              "      <td>2016-01-02</td>\n",
              "      <td>00:18:30</td>\n",
              "    </tr>\n",
              "    <tr>\n",
              "      <th>3</th>\n",
              "      <td>2016-01-02</td>\n",
              "      <td>02:32:30</td>\n",
              "    </tr>\n",
              "    <tr>\n",
              "      <th>4</th>\n",
              "      <td>2016-01-02</td>\n",
              "      <td>04:51:55</td>\n",
              "    </tr>\n",
              "    <tr>\n",
              "      <th>5</th>\n",
              "      <td>2016-01-02</td>\n",
              "      <td>07:20:59</td>\n",
              "    </tr>\n",
              "    <tr>\n",
              "      <th>6</th>\n",
              "      <td>2016-01-02</td>\n",
              "      <td>07:40:37</td>\n",
              "    </tr>\n",
              "    <tr>\n",
              "      <th>7</th>\n",
              "      <td>2016-01-02</td>\n",
              "      <td>08:57:57</td>\n",
              "    </tr>\n",
              "    <tr>\n",
              "      <th>8</th>\n",
              "      <td>2016-01-02</td>\n",
              "      <td>09:09:01</td>\n",
              "    </tr>\n",
              "    <tr>\n",
              "      <th>9</th>\n",
              "      <td>2016-01-02</td>\n",
              "      <td>11:01:32</td>\n",
              "    </tr>\n",
              "    <tr>\n",
              "      <th>10</th>\n",
              "      <td>2016-01-02</td>\n",
              "      <td>12:51:30</td>\n",
              "    </tr>\n",
              "    <tr>\n",
              "      <th>11</th>\n",
              "      <td>2016-01-02</td>\n",
              "      <td>13:16:45</td>\n",
              "    </tr>\n",
              "    <tr>\n",
              "      <th>12</th>\n",
              "      <td>2016-01-02</td>\n",
              "      <td>16:34:14</td>\n",
              "    </tr>\n",
              "    <tr>\n",
              "      <th>13</th>\n",
              "      <td>2016-01-02</td>\n",
              "      <td>17:45:54</td>\n",
              "    </tr>\n",
              "    <tr>\n",
              "      <th>14</th>\n",
              "      <td>2016-01-02</td>\n",
              "      <td>17:46:50</td>\n",
              "    </tr>\n",
              "    <tr>\n",
              "      <th>15</th>\n",
              "      <td>2016-01-02</td>\n",
              "      <td>18:52:45</td>\n",
              "    </tr>\n",
              "    <tr>\n",
              "      <th>16</th>\n",
              "      <td>2016-01-02</td>\n",
              "      <td>20:28:56</td>\n",
              "    </tr>\n",
              "    <tr>\n",
              "      <th>17</th>\n",
              "      <td>2016-01-02</td>\n",
              "      <td>21:10:19</td>\n",
              "    </tr>\n",
              "    <tr>\n",
              "      <th>18</th>\n",
              "      <td>2016-01-02</td>\n",
              "      <td>22:18:14</td>\n",
              "    </tr>\n",
              "    <tr>\n",
              "      <th>19</th>\n",
              "      <td>2016-01-03</td>\n",
              "      <td>00:19:44</td>\n",
              "    </tr>\n",
              "    <tr>\n",
              "      <th>20</th>\n",
              "      <td>2016-01-03</td>\n",
              "      <td>00:40:03</td>\n",
              "    </tr>\n",
              "    <tr>\n",
              "      <th>21</th>\n",
              "      <td>2016-01-03</td>\n",
              "      <td>00:49:00</td>\n",
              "    </tr>\n",
              "    <tr>\n",
              "      <th>22</th>\n",
              "      <td>2016-01-03</td>\n",
              "      <td>02:33:24</td>\n",
              "    </tr>\n",
              "    <tr>\n",
              "      <th>23</th>\n",
              "      <td>2016-01-03</td>\n",
              "      <td>06:16:54</td>\n",
              "    </tr>\n",
              "    <tr>\n",
              "      <th>24</th>\n",
              "      <td>2016-01-03</td>\n",
              "      <td>07:35:36</td>\n",
              "    </tr>\n",
              "    <tr>\n",
              "      <th>25</th>\n",
              "      <td>2016-01-03</td>\n",
              "      <td>08:58:12</td>\n",
              "    </tr>\n",
              "    <tr>\n",
              "      <th>26</th>\n",
              "      <td>2016-01-03</td>\n",
              "      <td>09:35:27</td>\n",
              "    </tr>\n",
              "    <tr>\n",
              "      <th>27</th>\n",
              "      <td>2016-01-03</td>\n",
              "      <td>10:48:11</td>\n",
              "    </tr>\n",
              "    <tr>\n",
              "      <th>28</th>\n",
              "      <td>2016-01-03</td>\n",
              "      <td>10:48:12</td>\n",
              "    </tr>\n",
              "    <tr>\n",
              "      <th>29</th>\n",
              "      <td>2016-01-03</td>\n",
              "      <td>11:41:15</td>\n",
              "    </tr>\n",
              "    <tr>\n",
              "      <th>...</th>\n",
              "      <td>...</td>\n",
              "      <td>...</td>\n",
              "    </tr>\n",
              "    <tr>\n",
              "      <th>20538</th>\n",
              "      <td>2018-12-30</td>\n",
              "      <td>08:27:46</td>\n",
              "    </tr>\n",
              "    <tr>\n",
              "      <th>20539</th>\n",
              "      <td>2018-12-30</td>\n",
              "      <td>08:39:52</td>\n",
              "    </tr>\n",
              "    <tr>\n",
              "      <th>20540</th>\n",
              "      <td>2018-12-30</td>\n",
              "      <td>11:01:03</td>\n",
              "    </tr>\n",
              "    <tr>\n",
              "      <th>20541</th>\n",
              "      <td>2018-12-30</td>\n",
              "      <td>11:23:20</td>\n",
              "    </tr>\n",
              "    <tr>\n",
              "      <th>20542</th>\n",
              "      <td>2018-12-30</td>\n",
              "      <td>11:57:33</td>\n",
              "    </tr>\n",
              "    <tr>\n",
              "      <th>20543</th>\n",
              "      <td>2018-12-30</td>\n",
              "      <td>12:13:19</td>\n",
              "    </tr>\n",
              "    <tr>\n",
              "      <th>20544</th>\n",
              "      <td>2018-12-30</td>\n",
              "      <td>12:15:14</td>\n",
              "    </tr>\n",
              "    <tr>\n",
              "      <th>20545</th>\n",
              "      <td>2018-12-30</td>\n",
              "      <td>17:22:21</td>\n",
              "    </tr>\n",
              "    <tr>\n",
              "      <th>20546</th>\n",
              "      <td>2018-12-30</td>\n",
              "      <td>17:45:54</td>\n",
              "    </tr>\n",
              "    <tr>\n",
              "      <th>20547</th>\n",
              "      <td>2018-12-30</td>\n",
              "      <td>17:46:42</td>\n",
              "    </tr>\n",
              "    <tr>\n",
              "      <th>20548</th>\n",
              "      <td>2018-12-30</td>\n",
              "      <td>18:23:16</td>\n",
              "    </tr>\n",
              "    <tr>\n",
              "      <th>20549</th>\n",
              "      <td>2018-12-30</td>\n",
              "      <td>22:11:40</td>\n",
              "    </tr>\n",
              "    <tr>\n",
              "      <th>20550</th>\n",
              "      <td>2018-12-30</td>\n",
              "      <td>22:44:54</td>\n",
              "    </tr>\n",
              "    <tr>\n",
              "      <th>20551</th>\n",
              "      <td>2018-12-30</td>\n",
              "      <td>23:22:57</td>\n",
              "    </tr>\n",
              "    <tr>\n",
              "      <th>20552</th>\n",
              "      <td>2018-12-31</td>\n",
              "      <td>02:24:27</td>\n",
              "    </tr>\n",
              "    <tr>\n",
              "      <th>20553</th>\n",
              "      <td>2018-12-31</td>\n",
              "      <td>02:35:27</td>\n",
              "    </tr>\n",
              "    <tr>\n",
              "      <th>20554</th>\n",
              "      <td>2018-12-31</td>\n",
              "      <td>03:13:36</td>\n",
              "    </tr>\n",
              "    <tr>\n",
              "      <th>20555</th>\n",
              "      <td>2018-12-31</td>\n",
              "      <td>05:13:28</td>\n",
              "    </tr>\n",
              "    <tr>\n",
              "      <th>20556</th>\n",
              "      <td>2018-12-31</td>\n",
              "      <td>13:32:57</td>\n",
              "    </tr>\n",
              "    <tr>\n",
              "      <th>20557</th>\n",
              "      <td>2018-12-31</td>\n",
              "      <td>13:53:59</td>\n",
              "    </tr>\n",
              "    <tr>\n",
              "      <th>20558</th>\n",
              "      <td>2018-12-31</td>\n",
              "      <td>14:17:24</td>\n",
              "    </tr>\n",
              "    <tr>\n",
              "      <th>20559</th>\n",
              "      <td>2018-12-31</td>\n",
              "      <td>16:27:34</td>\n",
              "    </tr>\n",
              "    <tr>\n",
              "      <th>20560</th>\n",
              "      <td>2018-12-31</td>\n",
              "      <td>16:46:06</td>\n",
              "    </tr>\n",
              "    <tr>\n",
              "      <th>20561</th>\n",
              "      <td>2018-12-31</td>\n",
              "      <td>18:24:51</td>\n",
              "    </tr>\n",
              "    <tr>\n",
              "      <th>20562</th>\n",
              "      <td>2018-12-31</td>\n",
              "      <td>19:56:53</td>\n",
              "    </tr>\n",
              "    <tr>\n",
              "      <th>20563</th>\n",
              "      <td>2018-12-31</td>\n",
              "      <td>20:48:14</td>\n",
              "    </tr>\n",
              "    <tr>\n",
              "      <th>20564</th>\n",
              "      <td>2018-12-31</td>\n",
              "      <td>21:24:17</td>\n",
              "    </tr>\n",
              "    <tr>\n",
              "      <th>20565</th>\n",
              "      <td>2018-12-31</td>\n",
              "      <td>21:38:02</td>\n",
              "    </tr>\n",
              "    <tr>\n",
              "      <th>20566</th>\n",
              "      <td>2019-02-21</td>\n",
              "      <td>20:05:00</td>\n",
              "    </tr>\n",
              "    <tr>\n",
              "      <th>20567</th>\n",
              "      <td>2019-05-14</td>\n",
              "      <td>22:48:39</td>\n",
              "    </tr>\n",
              "  </tbody>\n",
              "</table>\n",
              "<p>20568 rows × 2 columns</p>\n",
              "</div>"
            ],
            "text/plain": [
              "                0         1\n",
              "0      2016-01-02  00:01:05\n",
              "1      2016-01-02  00:05:26\n",
              "2      2016-01-02  00:18:30\n",
              "3      2016-01-02  02:32:30\n",
              "4      2016-01-02  04:51:55\n",
              "5      2016-01-02  07:20:59\n",
              "6      2016-01-02  07:40:37\n",
              "7      2016-01-02  08:57:57\n",
              "8      2016-01-02  09:09:01\n",
              "9      2016-01-02  11:01:32\n",
              "10     2016-01-02  12:51:30\n",
              "11     2016-01-02  13:16:45\n",
              "12     2016-01-02  16:34:14\n",
              "13     2016-01-02  17:45:54\n",
              "14     2016-01-02  17:46:50\n",
              "15     2016-01-02  18:52:45\n",
              "16     2016-01-02  20:28:56\n",
              "17     2016-01-02  21:10:19\n",
              "18     2016-01-02  22:18:14\n",
              "19     2016-01-03  00:19:44\n",
              "20     2016-01-03  00:40:03\n",
              "21     2016-01-03  00:49:00\n",
              "22     2016-01-03  02:33:24\n",
              "23     2016-01-03  06:16:54\n",
              "24     2016-01-03  07:35:36\n",
              "25     2016-01-03  08:58:12\n",
              "26     2016-01-03  09:35:27\n",
              "27     2016-01-03  10:48:11\n",
              "28     2016-01-03  10:48:12\n",
              "29     2016-01-03  11:41:15\n",
              "...           ...       ...\n",
              "20538  2018-12-30  08:27:46\n",
              "20539  2018-12-30  08:39:52\n",
              "20540  2018-12-30  11:01:03\n",
              "20541  2018-12-30  11:23:20\n",
              "20542  2018-12-30  11:57:33\n",
              "20543  2018-12-30  12:13:19\n",
              "20544  2018-12-30  12:15:14\n",
              "20545  2018-12-30  17:22:21\n",
              "20546  2018-12-30  17:45:54\n",
              "20547  2018-12-30  17:46:42\n",
              "20548  2018-12-30  18:23:16\n",
              "20549  2018-12-30  22:11:40\n",
              "20550  2018-12-30  22:44:54\n",
              "20551  2018-12-30  23:22:57\n",
              "20552  2018-12-31  02:24:27\n",
              "20553  2018-12-31  02:35:27\n",
              "20554  2018-12-31  03:13:36\n",
              "20555  2018-12-31  05:13:28\n",
              "20556  2018-12-31  13:32:57\n",
              "20557  2018-12-31  13:53:59\n",
              "20558  2018-12-31  14:17:24\n",
              "20559  2018-12-31  16:27:34\n",
              "20560  2018-12-31  16:46:06\n",
              "20561  2018-12-31  18:24:51\n",
              "20562  2018-12-31  19:56:53\n",
              "20563  2018-12-31  20:48:14\n",
              "20564  2018-12-31  21:24:17\n",
              "20565  2018-12-31  21:38:02\n",
              "20566  2019-02-21  20:05:00\n",
              "20567  2019-05-14  22:48:39\n",
              "\n",
              "[20568 rows x 2 columns]"
            ]
          },
          "metadata": {
            "tags": []
          },
          "execution_count": 22
        }
      ]
    },
    {
      "cell_type": "markdown",
      "metadata": {
        "id": "NBSRlAj-K2rc",
        "colab_type": "text"
      },
      "source": [
        "---\n",
        "## Part 2: Enriching the data"
      ]
    },
    {
      "cell_type": "markdown",
      "metadata": {
        "id": "fpq-dNOmK2rd",
        "colab_type": "text"
      },
      "source": [
        "A common task for a data scientists is to combine or enrich data from internal sources with data available from external sources. The purpose of this can be either to fix issues with the data or to make it easier to derive insights from the data.\n",
        "\n",
        "In this part you should enrich your data with data from at least one external source. You may look to part 4 for some  inspiration as to what is required. Your solution should be automated, i.e., you can not ask the reader of your notebook to download any data manually. You should argue why and what you expect to achieve by the enrichments you are doing."
      ]
    },
    {
      "cell_type": "markdown",
      "metadata": {
        "id": "6zEL0hQhK2re",
        "colab_type": "text"
      },
      "source": [
        "---\n",
        "### Solution"
      ]
    },
    {
      "cell_type": "code",
      "metadata": {
        "id": "bV9lJ_dnK2rf",
        "colab_type": "code",
        "colab": {}
      },
      "source": [
        ""
      ],
      "execution_count": 0,
      "outputs": []
    },
    {
      "cell_type": "markdown",
      "metadata": {
        "id": "MJFDY6nZK2ri",
        "colab_type": "text"
      },
      "source": [
        "---\n",
        "## Part 3: Creating a database\n",
        "Storing data in a relational database has the advantages that it is persistent, fast to query, and it will be easier access for other employees at Weyland-Yutani.\n",
        "\n",
        "In this part you should:\n",
        "- Create a database and table(s) for the data\n",
        "- Insert data into the tables\n",
        "\n",
        "You may use SQLite locally to do this. You should argue why you choose to store your data the way you do. "
      ]
    },
    {
      "cell_type": "markdown",
      "metadata": {
        "id": "sWXSn4_cK2rj",
        "colab_type": "text"
      },
      "source": [
        "---\n",
        "### Solution"
      ]
    },
    {
      "cell_type": "code",
      "metadata": {
        "id": "gmNyYGToK2rk",
        "colab_type": "code",
        "colab": {}
      },
      "source": [
        ""
      ],
      "execution_count": 0,
      "outputs": []
    },
    {
      "cell_type": "markdown",
      "metadata": {
        "id": "V1ZIkt2MK2rm",
        "colab_type": "text"
      },
      "source": [
        "---\n",
        "## Part 4: Analyzing the data\n",
        "You are now ready to analyze the data. Your goal is to gain some actionable business insights to present to your boss. \n",
        "\n",
        "In this part, you should ask some questions and try to answer them based on the data. You should write SQL queries to retrieve the data. For each question, you should state why it is relevant and what you expect to find.\n",
        "\n",
        "To get you started, you should prepare answers to the following questions. You should add more questions.\n",
        "#### Who are the most profitable clients?\n",
        "Knowing which clients that generate the most revenue for the company will assist your boss in distributing customer service ressources.\n",
        "\n",
        "#### Are there any clients for which profit is declining?\n",
        "Declining profit from a specific client may indicate that the client is disatisfied with the product. Gaining a new client is often much more work than retaining one. Early warnings about declining profit may help your boss fighting customer churn.\n",
        "\n",
        "\n",
        "Remember, you are taking this to your new boss, so think about how you present the data."
      ]
    },
    {
      "cell_type": "markdown",
      "metadata": {
        "id": "PNmy0ZVnK2rn",
        "colab_type": "text"
      },
      "source": [
        "---\n",
        "### Solution"
      ]
    },
    {
      "cell_type": "code",
      "metadata": {
        "id": "hJyxrqzNK2ro",
        "colab_type": "code",
        "colab": {}
      },
      "source": [
        ""
      ],
      "execution_count": 0,
      "outputs": []
    },
    {
      "cell_type": "markdown",
      "metadata": {
        "id": "v7cVGIybK2rq",
        "colab_type": "text"
      },
      "source": [
        "---\n",
        "## Part 5: Performance\n",
        "Your boss is very impressed with what you have achieved in less than two weeks, and he would like to take your idea of storing the customer and sales data in a relational database to production. However, John is concerned that the solution will not scale. His experience is telling him that you will see many occurrences of the following queries.\n",
        "\n",
        "- Show all sales to company X between time $t_1$ and time $t_2$\n",
        "- Show the latest X sales in the database\n",
        "- Show total sales per company per day\n",
        "\n",
        "Show that Johns concern is not justified."
      ]
    },
    {
      "cell_type": "markdown",
      "metadata": {
        "id": "b5oFTSpCK2rr",
        "colab_type": "text"
      },
      "source": [
        "---\n",
        "### Solution"
      ]
    },
    {
      "cell_type": "code",
      "metadata": {
        "id": "RQGb8Oj1K2rr",
        "colab_type": "code",
        "colab": {}
      },
      "source": [
        ""
      ],
      "execution_count": 0,
      "outputs": []
    },
    {
      "cell_type": "markdown",
      "metadata": {
        "id": "ZCuNAJ2xK2rt",
        "colab_type": "text"
      },
      "source": [
        "---"
      ]
    }
  ]
}